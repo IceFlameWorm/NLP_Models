{
 "cells": [
  {
   "cell_type": "code",
   "execution_count": 1,
   "metadata": {},
   "outputs": [],
   "source": [
    "import sys\n",
    "sys.path.append('../')"
   ]
  },
  {
   "cell_type": "code",
   "execution_count": 2,
   "metadata": {},
   "outputs": [],
   "source": [
    "import os\n",
    "\n",
    "# os.environ['CUDA_VISIBLE_DEVICES'] = '-1'\n",
    "\n",
    "import pickle\n",
    "import json\n",
    "import torch\n",
    "from copy import deepcopy\n",
    "from pytorch_nlp_models.text_pair.siamese_rnn import SiameseGRU\n",
    "from utils.preprocess import text2ids\n",
    "# from utils.datasets import LCQMCDataset\n",
    "# from utils.model_utils import model_train, model_eval\n",
    "\n",
    "# from torch.utils.data import DataLoader\n",
    "# from dumb_containers import evaluate_performance"
   ]
  },
  {
   "cell_type": "code",
   "execution_count": 3,
   "metadata": {},
   "outputs": [],
   "source": [
    "DATA_PATH = '../data/'\n",
    "# LCQMC_PATH = os.path.join(DATA_PATH, 'LCQMC')\n",
    "WORD_VECTORS_PATH = os.path.join(DATA_PATH, 'word_vectors')\n",
    "BAIDUBAIKE_PKL = os.path.join(WORD_VECTORS_PATH, 'baidubaike.pkl')\n",
    "\n",
    "MAX_SEQ_LEN = 40\n",
    "\n",
    "MODEL_PATH = os.path.join(DATA_PATH, 'model_files/siamese_gru')\n",
    "if not os.path.exists(MODEL_PATH):\n",
    "    os.makedirs(MODEL_PATH)\n",
    "    \n",
    "MODEL_FILE = os.path.join(MODEL_PATH, 'model.pkl')\n",
    "\n",
    "MODEL_CONFIG_JSON = os.path.join(MODEL_PATH, 'config.json')\n",
    "\n",
    "with open(MODEL_CONFIG_JSON, 'r') as f:\n",
    "    MODEL_CONFIG = json.load(f)"
   ]
  },
  {
   "cell_type": "code",
   "execution_count": 4,
   "metadata": {},
   "outputs": [],
   "source": [
    "with open(BAIDUBAIKE_PKL, 'rb') as f:\n",
    "    wvs = pickle.load(f)\n",
    "    \n",
    "wi = wvs['wi']\n",
    "iw = wvs['iw']\n",
    "dim = wvs['dim']\n",
    "emb = wvs['emb']"
   ]
  },
  {
   "cell_type": "code",
   "execution_count": 5,
   "metadata": {},
   "outputs": [
    {
     "data": {
      "text/plain": [
       "IncompatibleKeys(missing_keys=[], unexpected_keys=[])"
      ]
     },
     "execution_count": 5,
     "metadata": {},
     "output_type": "execute_result"
    }
   ],
   "source": [
    "model = SiameseGRU(**MODEL_CONFIG\n",
    "                  )\n",
    "checkpoint = torch.load(MODEL_FILE, map_location='cpu')\n",
    "model.load_state_dict(checkpoint['model_state_dict'])"
   ]
  },
  {
   "cell_type": "code",
   "execution_count": 6,
   "metadata": {},
   "outputs": [
    {
     "data": {
      "text/plain": [
       "OrderedDict([('weight',\n",
       "              tensor([[ 0.0000,  0.0000,  0.0000,  ...,  0.0000,  0.0000,  0.0000],\n",
       "                      [-0.0110,  0.2647,  0.4712,  ..., -0.1420,  0.5493,  0.4880],\n",
       "                      [-0.1045, -0.4096,  0.0025,  ...,  0.2424,  0.5210,  0.0380],\n",
       "                      ...,\n",
       "                      [ 0.1317, -0.0819,  0.0877,  ..., -0.0862, -0.0418, -0.1139],\n",
       "                      [ 0.0918,  0.1966, -0.0043,  ..., -0.1252,  0.0385,  0.0049],\n",
       "                      [ 0.0351,  0.1157, -0.0244,  ..., -0.0970,  0.0307, -0.0839]]))])"
      ]
     },
     "execution_count": 6,
     "metadata": {},
     "output_type": "execute_result"
    }
   ],
   "source": [
    "model.emb.state_dict()"
   ]
  },
  {
   "cell_type": "code",
   "execution_count": 7,
   "metadata": {},
   "outputs": [],
   "source": [
    "def sim(text1, text2):\n",
    "    ids1 = text2ids(text1, wi, charmode=True)\n",
    "    ids2 = text2ids(text2, wi, charmode=True)\n",
    "    len1 = len(ids1)\n",
    "    len2 = len(ids2)\n",
    "    \n",
    "    if len(ids1) > MAX_SEQ_LEN:\n",
    "        ids1 = ids1[:MAX_SEQ_LEN]\n",
    "        len1 = MAX_SEQ_LEN\n",
    "    else:\n",
    "        len1 = len(ids1)\n",
    "        ids1 += [0] * (MAX_SEQ_LEN - len1)\n",
    "\n",
    "    if len(ids2) > MAX_SEQ_LEN:\n",
    "        ids2 = ids2[:MAX_SEQ_LEN]\n",
    "        len2 = MAX_SEQ_LEN\n",
    "    else:\n",
    "        len2 = len(ids2)\n",
    "        ids2 += [0] * (MAX_SEQ_LEN - len2)\n",
    "\n",
    "    ids1_tensor = torch.tensor([ids1], dtype = torch.long)\n",
    "    ids2_tensor = torch.tensor([ids2], dtype = torch.long)\n",
    "    len1_tensor = torch.tensor([len1], dtype = torch.long)\n",
    "    len2_tensor = torch.tensor([len2], dtype = torch.long)\n",
    "    model.eval()\n",
    "    with torch.no_grad():\n",
    "        logits, vec1, vec2 = model(ids1_tensor, ids2_tensor, len1_tensor, len2_tensor)\n",
    "        probs = torch.softmax(logits, dim = 1)\n",
    "    print(probs)\n",
    "    return probs[0, 1].item(), vec1, vec2"
   ]
  },
  {
   "cell_type": "markdown",
   "metadata": {},
   "source": [
    "# 一般测试"
   ]
  },
  {
   "cell_type": "code",
   "execution_count": 8,
   "metadata": {},
   "outputs": [
    {
     "name": "stdout",
     "output_type": "stream",
     "text": [
      "tensor([[0.0250, 0.9750]])\n"
     ]
    },
    {
     "data": {
      "text/plain": [
       "0.9750417470932007"
      ]
     },
     "execution_count": 8,
     "metadata": {},
     "output_type": "execute_result"
    }
   ],
   "source": [
    "text1 = \"英雄联盟什么英雄最好\"\n",
    "text2 = \"英雄联盟最好英雄是什么\"\n",
    "pos_prob, vec1, vec2 = sim(text1, text2)\n",
    "pos_prob"
   ]
  },
  {
   "cell_type": "code",
   "execution_count": 9,
   "metadata": {},
   "outputs": [
    {
     "name": "stdout",
     "output_type": "stream",
     "text": [
      "tensor([[0.9964, 0.0036]])\n"
     ]
    },
    {
     "data": {
      "text/plain": [
       "0.0035700732842087746"
      ]
     },
     "execution_count": 9,
     "metadata": {},
     "output_type": "execute_result"
    }
   ],
   "source": [
    "text1 = \"我很高兴\"\n",
    "text2 = \"我很开心\"\n",
    "pos_prob, vec1, vec2 = sim(text1, text2)\n",
    "pos_prob"
   ]
  },
  {
   "cell_type": "code",
   "execution_count": 10,
   "metadata": {},
   "outputs": [
    {
     "name": "stdout",
     "output_type": "stream",
     "text": [
      "tensor([[0.9964, 0.0036]])\n"
     ]
    },
    {
     "data": {
      "text/plain": [
       "0.0035700732842087746"
      ]
     },
     "execution_count": 10,
     "metadata": {},
     "output_type": "execute_result"
    }
   ],
   "source": [
    "text1 = \"我很开心\"\n",
    "text2 = \"我很高兴\"\n",
    "pos_prob, vec1, vec2 = sim(text1, text2)\n",
    "pos_prob"
   ]
  },
  {
   "cell_type": "code",
   "execution_count": 11,
   "metadata": {},
   "outputs": [
    {
     "name": "stdout",
     "output_type": "stream",
     "text": [
      "tensor([[0.9986, 0.0014]])\n"
     ]
    },
    {
     "data": {
      "text/plain": [
       "0.0014140098355710506"
      ]
     },
     "execution_count": 11,
     "metadata": {},
     "output_type": "execute_result"
    }
   ],
   "source": [
    "text1 = \"我很高兴\"\n",
    "text2 = \"我特别特别开心\"\n",
    "pos_prob, vec1, vec2 = sim(text1, text2)\n",
    "pos_prob"
   ]
  },
  {
   "cell_type": "code",
   "execution_count": 12,
   "metadata": {},
   "outputs": [
    {
     "name": "stdout",
     "output_type": "stream",
     "text": [
      "tensor([[0.9980, 0.0020]])\n"
     ]
    },
    {
     "data": {
      "text/plain": [
       "0.0019592756871134043"
      ]
     },
     "execution_count": 12,
     "metadata": {},
     "output_type": "execute_result"
    }
   ],
   "source": [
    "text1 = \"我很高兴\"\n",
    "text2 = \"我其实觉得自己很开心\"\n",
    "pos_prob, vec1, vec2 = sim(text1, text2)\n",
    "pos_prob"
   ]
  },
  {
   "cell_type": "code",
   "execution_count": 13,
   "metadata": {},
   "outputs": [
    {
     "name": "stdout",
     "output_type": "stream",
     "text": [
      "tensor([[0.9565, 0.0435]])\n"
     ]
    },
    {
     "data": {
      "text/plain": [
       "0.043486587703228"
      ]
     },
     "execution_count": 13,
     "metadata": {},
     "output_type": "execute_result"
    }
   ],
   "source": [
    "text1 = \"我特别特别开心\"\n",
    "text2 = \"我其实觉得自己很开心\"\n",
    "pos_prob, vec1, vec2 = sim(text1, text2)\n",
    "pos_prob"
   ]
  },
  {
   "cell_type": "code",
   "execution_count": 14,
   "metadata": {},
   "outputs": [
    {
     "name": "stdout",
     "output_type": "stream",
     "text": [
      "tensor([[9.9992e-01, 7.5343e-05]])\n"
     ]
    },
    {
     "data": {
      "text/plain": [
       "7.53425556467846e-05"
      ]
     },
     "execution_count": 14,
     "metadata": {},
     "output_type": "execute_result"
    }
   ],
   "source": [
    "text1 = \"我很高兴\"\n",
    "text2 = \"我不开心\"\n",
    "pos_prob, vec1, vec2 = sim(text1, text2)\n",
    "pos_prob"
   ]
  },
  {
   "cell_type": "code",
   "execution_count": 15,
   "metadata": {},
   "outputs": [
    {
     "name": "stdout",
     "output_type": "stream",
     "text": [
      "tensor([[0.9537, 0.0463]])\n"
     ]
    },
    {
     "data": {
      "text/plain": [
       "0.046322498470544815"
      ]
     },
     "execution_count": 15,
     "metadata": {},
     "output_type": "execute_result"
    }
   ],
   "source": [
    "text1 = \"我很高兴\"\n",
    "text2 = \"我不高兴\"\n",
    "pos_prob, vec1, vec2 = sim(text1, text2)\n",
    "pos_prob"
   ]
  },
  {
   "cell_type": "code",
   "execution_count": 16,
   "metadata": {},
   "outputs": [
    {
     "name": "stdout",
     "output_type": "stream",
     "text": [
      "tensor([[0.0056, 0.9944]])\n"
     ]
    },
    {
     "data": {
      "text/plain": [
       "0.9944317936897278"
      ]
     },
     "execution_count": 16,
     "metadata": {},
     "output_type": "execute_result"
    }
   ],
   "source": [
    "text1 = \"我很高兴\"\n",
    "text2 = \"我很高兴\"\n",
    "pos_prob, vec1, vec2 = sim(text1, text2)\n",
    "pos_prob"
   ]
  },
  {
   "cell_type": "code",
   "execution_count": 17,
   "metadata": {},
   "outputs": [
    {
     "name": "stdout",
     "output_type": "stream",
     "text": [
      "tensor([[0.9976, 0.0024]])\n"
     ]
    },
    {
     "data": {
      "text/plain": [
       "0.0023956228978931904"
      ]
     },
     "execution_count": 17,
     "metadata": {},
     "output_type": "execute_result"
    }
   ],
   "source": [
    "text1 = \"我很伤心\"\n",
    "text2 = \"我很难过\"\n",
    "pos_prob, vec1, vec2 = sim(text1, text2)\n",
    "pos_prob"
   ]
  },
  {
   "cell_type": "code",
   "execution_count": 18,
   "metadata": {},
   "outputs": [
    {
     "name": "stdout",
     "output_type": "stream",
     "text": [
      "tensor([[0.9975, 0.0025]])\n"
     ]
    },
    {
     "data": {
      "text/plain": [
       "0.002549131866544485"
      ]
     },
     "execution_count": 18,
     "metadata": {},
     "output_type": "execute_result"
    }
   ],
   "source": [
    "text1 = \"真好\"\n",
    "text2 = \"不错\"\n",
    "pos_prob, vec1, vec2 = sim(text1, text2)\n",
    "pos_prob"
   ]
  },
  {
   "cell_type": "code",
   "execution_count": 19,
   "metadata": {},
   "outputs": [
    {
     "name": "stdout",
     "output_type": "stream",
     "text": [
      "tensor([[9.9970e-01, 2.9801e-04]])\n"
     ]
    },
    {
     "data": {
      "text/plain": [
       "0.00029800814809277654"
      ]
     },
     "execution_count": 19,
     "metadata": {},
     "output_type": "execute_result"
    }
   ],
   "source": [
    "text1 = \"高兴\"\n",
    "text2 = \"开心\"\n",
    "pos_prob, vec1, vec2 = sim(text1, text2)\n",
    "pos_prob"
   ]
  },
  {
   "cell_type": "code",
   "execution_count": 20,
   "metadata": {},
   "outputs": [
    {
     "name": "stdout",
     "output_type": "stream",
     "text": [
      "tensor([[0.0035, 0.9965]])\n"
     ]
    },
    {
     "data": {
      "text/plain": [
       "0.9965393543243408"
      ]
     },
     "execution_count": 20,
     "metadata": {},
     "output_type": "execute_result"
    }
   ],
   "source": [
    "text1 = \"大家好才是真的好\"\n",
    "text2 = \"大家好才是真的好\"\n",
    "pos_prob, vec1, vec2 = sim(text1, text2)\n",
    "pos_prob"
   ]
  },
  {
   "cell_type": "code",
   "execution_count": 21,
   "metadata": {},
   "outputs": [
    {
     "name": "stdout",
     "output_type": "stream",
     "text": [
      "tensor([[9.9949e-01, 5.1214e-04]])\n"
     ]
    },
    {
     "data": {
      "text/plain": [
       "0.0005121392896398902"
      ]
     },
     "execution_count": 21,
     "metadata": {},
     "output_type": "execute_result"
    }
   ],
   "source": [
    "text1 = \"为什么能开出腾讯信用却没有微粒贷朋友的没用腾讯信用却有30000的额度呢\"\n",
    "text2 = \"我钱包里没有你们这个应用\"\n",
    "pos_prob, vec1, vec2 = sim(text1, text2)\n",
    "pos_prob"
   ]
  },
  {
   "cell_type": "code",
   "execution_count": 22,
   "metadata": {},
   "outputs": [
    {
     "name": "stdout",
     "output_type": "stream",
     "text": [
      "tensor([[0.9986, 0.0014]])\n"
     ]
    },
    {
     "data": {
      "text/plain": [
       "0.0014128254260867834"
      ]
     },
     "execution_count": 22,
     "metadata": {},
     "output_type": "execute_result"
    }
   ],
   "source": [
    "text1 = \"我也不知道\"\n",
    "text2 = \"好吧\"\n",
    "pos_prob, vec1, vec2 = sim(text1, text2)\n",
    "pos_prob"
   ]
  },
  {
   "cell_type": "code",
   "execution_count": 23,
   "metadata": {},
   "outputs": [
    {
     "name": "stdout",
     "output_type": "stream",
     "text": [
      "tensor([[0.9833, 0.0167]])\n"
     ]
    },
    {
     "data": {
      "text/plain": [
       "0.0167356226593256"
      ]
     },
     "execution_count": 23,
     "metadata": {},
     "output_type": "execute_result"
    }
   ],
   "source": [
    "text1 = \"深度学习\"\n",
    "text2 = \"机器学习\"\n",
    "pos_prob, vec1, vec2 = sim(text1, text2)\n",
    "pos_prob"
   ]
  },
  {
   "cell_type": "code",
   "execution_count": 24,
   "metadata": {},
   "outputs": [
    {
     "name": "stdout",
     "output_type": "stream",
     "text": [
      "tensor([[0.9833, 0.0167]])\n"
     ]
    },
    {
     "data": {
      "text/plain": [
       "0.0167356226593256"
      ]
     },
     "execution_count": 24,
     "metadata": {},
     "output_type": "execute_result"
    }
   ],
   "source": [
    "text1 = \"机器学习\"\n",
    "text2 = \"深度学习\"\n",
    "pos_prob, vec1, vec2 = sim(text1, text2)\n",
    "pos_prob"
   ]
  },
  {
   "cell_type": "code",
   "execution_count": 25,
   "metadata": {
    "scrolled": true
   },
   "outputs": [
    {
     "name": "stdout",
     "output_type": "stream",
     "text": [
      "tensor([[0.0541, 0.9459]])\n"
     ]
    },
    {
     "data": {
      "text/plain": [
       "0.9458606243133545"
      ]
     },
     "execution_count": 25,
     "metadata": {},
     "output_type": "execute_result"
    }
   ],
   "source": [
    "text1 = \"人民团体是什么\"\n",
    "text2 = \"人民团体是指\"\n",
    "pos_prob, vec1, vec2 = sim(text1, text2)\n",
    "pos_prob"
   ]
  },
  {
   "cell_type": "markdown",
   "metadata": {},
   "source": [
    "# 百度-车牌，不太一致"
   ]
  },
  {
   "cell_type": "code",
   "execution_count": 26,
   "metadata": {},
   "outputs": [
    {
     "name": "stdout",
     "output_type": "stream",
     "text": [
      "tensor([[0.9849, 0.0151]])\n"
     ]
    },
    {
     "data": {
      "text/plain": [
       "0.015069725923240185"
      ]
     },
     "execution_count": 26,
     "metadata": {},
     "output_type": "execute_result"
    }
   ],
   "source": [
    "text1 = \"车头如何放置车牌\"\n",
    "text2 = \"前牌照怎么装\"\n",
    "pos_prob, vec1, vec2 = sim(text1, text2)\n",
    "pos_prob"
   ]
  },
  {
   "cell_type": "code",
   "execution_count": 27,
   "metadata": {},
   "outputs": [
    {
     "name": "stdout",
     "output_type": "stream",
     "text": [
      "tensor([[0.9971, 0.0029]])\n"
     ]
    },
    {
     "data": {
      "text/plain": [
       "0.002867944072932005"
      ]
     },
     "execution_count": 27,
     "metadata": {},
     "output_type": "execute_result"
    }
   ],
   "source": [
    "text1 = \"车头如何放置车牌\"\n",
    "text2 = \"如何办理北京车牌\"\n",
    "pos_prob, vec1, vec2 = sim(text1, text2)\n",
    "pos_prob"
   ]
  },
  {
   "cell_type": "code",
   "execution_count": 28,
   "metadata": {},
   "outputs": [
    {
     "name": "stdout",
     "output_type": "stream",
     "text": [
      "tensor([[0.9921, 0.0079]])\n"
     ]
    },
    {
     "data": {
      "text/plain": [
       "0.00785581860691309"
      ]
     },
     "execution_count": 28,
     "metadata": {},
     "output_type": "execute_result"
    }
   ],
   "source": [
    "text1 = \"车头如何放置车牌\"\n",
    "text2 = \"后牌照怎么装\"\n",
    "pos_prob, vec1, vec2 = sim(text1, text2)\n",
    "pos_prob"
   ]
  },
  {
   "cell_type": "markdown",
   "metadata": {},
   "source": [
    "# 百度-信号"
   ]
  },
  {
   "cell_type": "code",
   "execution_count": 29,
   "metadata": {},
   "outputs": [
    {
     "name": "stdout",
     "output_type": "stream",
     "text": [
      "tensor([[0.2675, 0.7325]])\n"
     ]
    },
    {
     "data": {
      "text/plain": [
       "0.7324687242507935"
      ]
     },
     "execution_count": 29,
     "metadata": {},
     "output_type": "execute_result"
    }
   ],
   "source": [
    "text1 = \"信号忽强忽弱\"\n",
    "text2 = \"信号忽高忽低\"\n",
    "pos_prob, vec1, vec2 = sim(text1, text2)\n",
    "pos_prob"
   ]
  },
  {
   "cell_type": "code",
   "execution_count": 30,
   "metadata": {},
   "outputs": [
    {
     "name": "stdout",
     "output_type": "stream",
     "text": [
      "tensor([[0.5458, 0.4542]])\n"
     ]
    },
    {
     "data": {
      "text/plain": [
       "0.4542343318462372"
      ]
     },
     "execution_count": 30,
     "metadata": {},
     "output_type": "execute_result"
    }
   ],
   "source": [
    "text1 = \"信号忽强忽弱\"\n",
    "text2 = \"信号忽左忽右\"\n",
    "pos_prob, vec1, vec2 = sim(text1, text2)\n",
    "pos_prob"
   ]
  },
  {
   "cell_type": "code",
   "execution_count": 31,
   "metadata": {},
   "outputs": [
    {
     "name": "stdout",
     "output_type": "stream",
     "text": [
      "tensor([[0.7430, 0.2570]])\n"
     ]
    },
    {
     "data": {
      "text/plain": [
       "0.2570425868034363"
      ]
     },
     "execution_count": 31,
     "metadata": {},
     "output_type": "execute_result"
    }
   ],
   "source": [
    "text1 = \"信号忽强忽弱\"\n",
    "text2 = \"信号忽然中断\"\n",
    "pos_prob, vec1, vec2 = sim(text1, text2)\n",
    "pos_prob"
   ]
  },
  {
   "cell_type": "markdown",
   "metadata": {},
   "source": [
    "# 百度-机器学习"
   ]
  },
  {
   "cell_type": "code",
   "execution_count": 32,
   "metadata": {},
   "outputs": [
    {
     "name": "stdout",
     "output_type": "stream",
     "text": [
      "tensor([[0.9981, 0.0019]])\n"
     ]
    },
    {
     "data": {
      "text/plain": [
       "0.001922023482620716"
      ]
     },
     "execution_count": 32,
     "metadata": {},
     "output_type": "execute_result"
    }
   ],
   "source": [
    "text1 = \"如何学好深度学习\"\n",
    "text2 = \"深入学习习近平讲话材料\"\n",
    "pos_prob, vec1, vec2 = sim(text1, text2)\n",
    "pos_prob"
   ]
  },
  {
   "cell_type": "code",
   "execution_count": 33,
   "metadata": {},
   "outputs": [
    {
     "name": "stdout",
     "output_type": "stream",
     "text": [
      "tensor([[9.9923e-01, 7.6823e-04]])\n"
     ]
    },
    {
     "data": {
      "text/plain": [
       "0.000768233323469758"
      ]
     },
     "execution_count": 33,
     "metadata": {},
     "output_type": "execute_result"
    }
   ],
   "source": [
    "text1 = \"如何学好深度学习\"\n",
    "text2 = \"机器学习教程\"\n",
    "pos_prob, vec1, vec2 = sim(text1, text2)\n",
    "pos_prob"
   ]
  },
  {
   "cell_type": "code",
   "execution_count": 34,
   "metadata": {},
   "outputs": [
    {
     "name": "stdout",
     "output_type": "stream",
     "text": [
      "tensor([[9.9997e-01, 2.9498e-05]])\n"
     ]
    },
    {
     "data": {
      "text/plain": [
       "2.949829831777606e-05"
      ]
     },
     "execution_count": 34,
     "metadata": {},
     "output_type": "execute_result"
    }
   ],
   "source": [
    "text1 = \"如何学好深度学习\"\n",
    "text2 = \"人工智能教程\"\n",
    "pos_prob, vec1, vec2 = sim(text1, text2)\n",
    "pos_prob"
   ]
  },
  {
   "cell_type": "markdown",
   "metadata": {},
   "source": [
    "# 百度-香蕉的翻译，偏小但排序一致"
   ]
  },
  {
   "cell_type": "code",
   "execution_count": 35,
   "metadata": {},
   "outputs": [
    {
     "name": "stdout",
     "output_type": "stream",
     "text": [
      "tensor([[0.9821, 0.0179]])\n"
     ]
    },
    {
     "data": {
      "text/plain": [
       "0.01794440858066082"
      ]
     },
     "execution_count": 35,
     "metadata": {},
     "output_type": "execute_result"
    }
   ],
   "source": [
    "text1 = \"香蕉的翻译\"\n",
    "text2 = \"香蕉用英文怎么说\"\n",
    "pos_prob, vec1, vec2 = sim(text1, text2)\n",
    "pos_prob"
   ]
  },
  {
   "cell_type": "code",
   "execution_count": 36,
   "metadata": {},
   "outputs": [
    {
     "name": "stdout",
     "output_type": "stream",
     "text": [
      "tensor([[0.9744, 0.0256]])\n"
     ]
    },
    {
     "data": {
      "text/plain": [
       "0.025603730231523514"
      ]
     },
     "execution_count": 36,
     "metadata": {},
     "output_type": "execute_result"
    }
   ],
   "source": [
    "text1 = \"香蕉的翻译\"\n",
    "text2 = \"香蕉怎么吃\"\n",
    "pos_prob, vec1, vec2 = sim(text1, text2)\n",
    "pos_prob"
   ]
  },
  {
   "cell_type": "code",
   "execution_count": 37,
   "metadata": {
    "scrolled": true
   },
   "outputs": [
    {
     "name": "stdout",
     "output_type": "stream",
     "text": [
      "tensor([[9.9977e-01, 2.3198e-04]])\n"
     ]
    },
    {
     "data": {
      "text/plain": [
       "0.00023197510745376348"
      ]
     },
     "execution_count": 37,
     "metadata": {},
     "output_type": "execute_result"
    }
   ],
   "source": [
    "text1 = \"香蕉的翻译\"\n",
    "text2 = \"桔子用英文怎么说\"\n",
    "pos_prob, vec1, vec2 = sim(text1, text2)\n",
    "pos_prob"
   ]
  },
  {
   "cell_type": "markdown",
   "metadata": {},
   "source": [
    "# 百度-腹泻，排序有差别"
   ]
  },
  {
   "cell_type": "code",
   "execution_count": 38,
   "metadata": {},
   "outputs": [
    {
     "name": "stdout",
     "output_type": "stream",
     "text": [
      "tensor([[0.9985, 0.0015]])\n"
     ]
    },
    {
     "data": {
      "text/plain": [
       "0.0015421390999108553"
      ]
     },
     "execution_count": 38,
     "metadata": {},
     "output_type": "execute_result"
    }
   ],
   "source": [
    "text1 = \"小儿腹泻偏方\"\n",
    "text2 = \"宝宝拉肚子偏方\"\n",
    "pos_prob, vec1, vec2 = sim(text1, text2)\n",
    "pos_prob"
   ]
  },
  {
   "cell_type": "code",
   "execution_count": 39,
   "metadata": {},
   "outputs": [
    {
     "name": "stdout",
     "output_type": "stream",
     "text": [
      "tensor([[9.9914e-01, 8.5903e-04]])\n"
     ]
    },
    {
     "data": {
      "text/plain": [
       "0.0008590331999585032"
      ]
     },
     "execution_count": 39,
     "metadata": {},
     "output_type": "execute_result"
    }
   ],
   "source": [
    "text1 = \"小儿腹泻偏方\"\n",
    "text2 = \"小儿感冒偏方\"\n",
    "pos_prob, vec1, vec2 = sim(text1, text2)\n",
    "pos_prob"
   ]
  },
  {
   "cell_type": "code",
   "execution_count": 40,
   "metadata": {},
   "outputs": [
    {
     "name": "stdout",
     "output_type": "stream",
     "text": [
      "tensor([[0.0895, 0.9105]])\n"
     ]
    },
    {
     "data": {
      "text/plain": [
       "0.9104790687561035"
      ]
     },
     "execution_count": 40,
     "metadata": {},
     "output_type": "execute_result"
    }
   ],
   "source": [
    "text1 = \"小儿腹泻偏方\"\n",
    "text2 = \"腹泻偏方\"\n",
    "pos_prob, vec1, vec2 = sim(text1, text2)\n",
    "pos_prob"
   ]
  },
  {
   "cell_type": "markdown",
   "metadata": {},
   "source": [
    "# 百度-LOL，数值偏小，但排序一致"
   ]
  },
  {
   "cell_type": "code",
   "execution_count": 41,
   "metadata": {},
   "outputs": [
    {
     "name": "stdout",
     "output_type": "stream",
     "text": [
      "tensor([[0.9855, 0.0145]])\n"
     ]
    },
    {
     "data": {
      "text/plain": [
       "0.014453393407166004"
      ]
     },
     "execution_count": 41,
     "metadata": {},
     "output_type": "execute_result"
    }
   ],
   "source": [
    "text1 = \"英雄联盟好玩吗，怎么升级\"\n",
    "text2 = \"英雄联盟攻略\"\n",
    "pos_prob, vec1, vec2 = sim(text1, text2)\n",
    "pos_prob"
   ]
  },
  {
   "cell_type": "code",
   "execution_count": 42,
   "metadata": {},
   "outputs": [
    {
     "name": "stdout",
     "output_type": "stream",
     "text": [
      "tensor([[0.9672, 0.0328]])\n"
     ]
    },
    {
     "data": {
      "text/plain": [
       "0.032777220010757446"
      ]
     },
     "execution_count": 42,
     "metadata": {},
     "output_type": "execute_result"
    }
   ],
   "source": [
    "text1 = \"英雄联盟好玩吗，怎么升级\"\n",
    "text2 = \"英雄联盟服务器升级\"\n",
    "pos_prob, vec1, vec2 = sim(text1, text2)\n",
    "pos_prob"
   ]
  },
  {
   "cell_type": "code",
   "execution_count": 43,
   "metadata": {
    "scrolled": true
   },
   "outputs": [
    {
     "name": "stdout",
     "output_type": "stream",
     "text": [
      "tensor([[0.7560, 0.2440]])\n"
     ]
    },
    {
     "data": {
      "text/plain": [
       "0.24402819573879242"
      ]
     },
     "execution_count": 43,
     "metadata": {},
     "output_type": "execute_result"
    }
   ],
   "source": [
    "text1 = \"英雄联盟好玩吗，怎么升级\"\n",
    "text2 = \"怎么打好英雄联盟\"\n",
    "pos_prob, vec1, vec2 = sim(text1, text2)\n",
    "pos_prob"
   ]
  },
  {
   "cell_type": "markdown",
   "metadata": {},
   "source": [
    "# 百度-红米"
   ]
  },
  {
   "cell_type": "code",
   "execution_count": 44,
   "metadata": {},
   "outputs": [
    {
     "name": "stdout",
     "output_type": "stream",
     "text": [
      "tensor([[0.9206, 0.0794]])\n"
     ]
    },
    {
     "data": {
      "text/plain": [
       "0.07939153909683228"
      ]
     },
     "execution_count": 44,
     "metadata": {},
     "output_type": "execute_result"
    }
   ],
   "source": [
    "text1 = \"红米更新出错\"\n",
    "text2 = \"红米升级系统出错\"\n",
    "pos_prob, vec1, vec2 = sim(text1, text2)\n",
    "pos_prob"
   ]
  },
  {
   "cell_type": "code",
   "execution_count": 45,
   "metadata": {},
   "outputs": [
    {
     "name": "stdout",
     "output_type": "stream",
     "text": [
      "tensor([[0.7932, 0.2068]])\n"
     ]
    },
    {
     "data": {
      "text/plain": [
       "0.206807941198349"
      ]
     },
     "execution_count": 45,
     "metadata": {},
     "output_type": "execute_result"
    }
   ],
   "source": [
    "text1 = \"红米更新出错\"\n",
    "text2 = \"红米账户出错\"\n",
    "pos_prob, vec1, vec2 = sim(text1, text2)\n",
    "pos_prob"
   ]
  },
  {
   "cell_type": "code",
   "execution_count": 46,
   "metadata": {},
   "outputs": [
    {
     "name": "stdout",
     "output_type": "stream",
     "text": [
      "tensor([[9.9982e-01, 1.8473e-04]])\n"
     ]
    },
    {
     "data": {
      "text/plain": [
       "0.00018473295494914055"
      ]
     },
     "execution_count": 46,
     "metadata": {},
     "output_type": "execute_result"
    }
   ],
   "source": [
    "text1 = \"红米更新出错\"\n",
    "text2 = \"如何买到小米手机\"\n",
    "pos_prob, vec1, vec2 = sim(text1, text2)\n",
    "pos_prob"
   ]
  },
  {
   "cell_type": "markdown",
   "metadata": {},
   "source": [
    "# 百度-李彦宏"
   ]
  },
  {
   "cell_type": "code",
   "execution_count": 47,
   "metadata": {},
   "outputs": [
    {
     "name": "stdout",
     "output_type": "stream",
     "text": [
      "tensor([[0.4403, 0.5597]])\n"
     ]
    },
    {
     "data": {
      "text/plain": [
       "0.5596696734428406"
      ]
     },
     "execution_count": 47,
     "metadata": {},
     "output_type": "execute_result"
    }
   ],
   "source": [
    "text1 = \"李彦宏是百度公司创始人\"\n",
    "text2 = \"百度是李彦宏创办的\"\n",
    "pos_prob, vec1, vec2 = sim(text1, text2)\n",
    "pos_prob"
   ]
  },
  {
   "cell_type": "code",
   "execution_count": 48,
   "metadata": {},
   "outputs": [
    {
     "name": "stdout",
     "output_type": "stream",
     "text": [
      "tensor([[0.9960, 0.0040]])\n"
     ]
    },
    {
     "data": {
      "text/plain": [
       "0.0040373411029577255"
      ]
     },
     "execution_count": 48,
     "metadata": {},
     "output_type": "execute_result"
    }
   ],
   "source": [
    "text1 = \"李彦宏是百度公司创始人\"\n",
    "text2 = \"马化腾创办了腾讯公司\"\n",
    "pos_prob, vec1, vec2 = sim(text1, text2)\n",
    "pos_prob"
   ]
  },
  {
   "cell_type": "code",
   "execution_count": 49,
   "metadata": {},
   "outputs": [
    {
     "name": "stdout",
     "output_type": "stream",
     "text": [
      "tensor([[9.9981e-01, 1.9472e-04]])\n"
     ]
    },
    {
     "data": {
      "text/plain": [
       "0.00019472363055683672"
      ]
     },
     "execution_count": 49,
     "metadata": {},
     "output_type": "execute_result"
    }
   ],
   "source": [
    "text1 = \"李彦宏是百度公司创始人\"\n",
    "text2 = \"姚明是NBA的著名球星\"\n",
    "pos_prob, vec1, vec2 = sim(text1, text2)\n",
    "pos_prob"
   ]
  },
  {
   "cell_type": "markdown",
   "metadata": {},
   "source": [
    "# 百度-中国历史"
   ]
  },
  {
   "cell_type": "code",
   "execution_count": 50,
   "metadata": {},
   "outputs": [
    {
     "name": "stdout",
     "output_type": "stream",
     "text": [
      "tensor([[9.9994e-01, 5.5082e-05]])\n"
     ]
    },
    {
     "data": {
      "text/plain": [
       "5.508239337359555e-05"
      ]
     },
     "execution_count": 50,
     "metadata": {},
     "output_type": "execute_result"
    }
   ],
   "source": [
    "text1 = \"中国有五千年的历史\"\n",
    "text2 = \"中国是个历史悠久的国家\"\n",
    "pos_prob, vec1, vec2 = sim(text1, text2)\n",
    "pos_prob"
   ]
  },
  {
   "cell_type": "code",
   "execution_count": 51,
   "metadata": {},
   "outputs": [
    {
     "name": "stdout",
     "output_type": "stream",
     "text": [
      "tensor([[9.9995e-01, 4.6088e-05]])\n"
     ]
    },
    {
     "data": {
      "text/plain": [
       "4.608769086189568e-05"
      ]
     },
     "execution_count": 51,
     "metadata": {},
     "output_type": "execute_result"
    }
   ],
   "source": [
    "text1 = \"中国有五千年的历史\"\n",
    "text2 = \"中国有很多少数民族\"\n",
    "pos_prob, vec1, vec2 = sim(text1, text2)\n",
    "pos_prob"
   ]
  },
  {
   "cell_type": "code",
   "execution_count": 52,
   "metadata": {},
   "outputs": [
    {
     "name": "stdout",
     "output_type": "stream",
     "text": [
      "tensor([[9.9999e-01, 5.4555e-06]])\n"
     ]
    },
    {
     "data": {
      "text/plain": [
       "5.455455720948521e-06"
      ]
     },
     "execution_count": 52,
     "metadata": {},
     "output_type": "execute_result"
    }
   ],
   "source": [
    "text1 = \"中国有五千年的历史\"\n",
    "text2 = \"中国有13亿人口\"\n",
    "pos_prob, vec1, vec2 = sim(text1, text2)\n",
    "pos_prob"
   ]
  },
  {
   "cell_type": "markdown",
   "metadata": {},
   "source": [
    "# 百度-北京奥运会，偏小，但数值一致"
   ]
  },
  {
   "cell_type": "code",
   "execution_count": 53,
   "metadata": {},
   "outputs": [
    {
     "name": "stdout",
     "output_type": "stream",
     "text": [
      "tensor([[0.9911, 0.0089]])\n"
     ]
    },
    {
     "data": {
      "text/plain": [
       "0.00885780993849039"
      ]
     },
     "execution_count": 53,
     "metadata": {},
     "output_type": "execute_result"
    }
   ],
   "source": [
    "text1 = \"北京成功申办了2008年奥运会\"\n",
    "text2 = \"2008年奥运会在北京举行\"\n",
    "pos_prob, vec1, vec2 = sim(text1, text2)\n",
    "pos_prob"
   ]
  },
  {
   "cell_type": "code",
   "execution_count": 54,
   "metadata": {},
   "outputs": [
    {
     "name": "stdout",
     "output_type": "stream",
     "text": [
      "tensor([[9.9995e-01, 4.8986e-05]])\n"
     ]
    },
    {
     "data": {
      "text/plain": [
       "4.898626502836123e-05"
      ]
     },
     "execution_count": 54,
     "metadata": {},
     "output_type": "execute_result"
    }
   ],
   "source": [
    "text1 = \"北京成功申办了2008年奥运会\"\n",
    "text2 = \"伦敦奥运会在2012年举行\"\n",
    "pos_prob, vec1, vec2 = sim(text1, text2)\n",
    "pos_prob"
   ]
  },
  {
   "cell_type": "code",
   "execution_count": 55,
   "metadata": {},
   "outputs": [
    {
     "name": "stdout",
     "output_type": "stream",
     "text": [
      "tensor([[9.9968e-01, 3.1851e-04]])\n"
     ]
    },
    {
     "data": {
      "text/plain": [
       "0.000318505015457049"
      ]
     },
     "execution_count": 55,
     "metadata": {},
     "output_type": "execute_result"
    }
   ],
   "source": [
    "text1 = \"北京成功申办了2008年奥运会\"\n",
    "text2 = \"东京奥运会即将举办\"\n",
    "pos_prob, vec1, vec2 = sim(text1, text2)\n",
    "pos_prob"
   ]
  },
  {
   "cell_type": "code",
   "execution_count": null,
   "metadata": {},
   "outputs": [],
   "source": []
  }
 ],
 "metadata": {
  "kernelspec": {
   "display_name": "Python 3",
   "language": "python",
   "name": "python3"
  },
  "language_info": {
   "codemirror_mode": {
    "name": "ipython",
    "version": 3
   },
   "file_extension": ".py",
   "mimetype": "text/x-python",
   "name": "python",
   "nbconvert_exporter": "python",
   "pygments_lexer": "ipython3",
   "version": "3.7.3"
  }
 },
 "nbformat": 4,
 "nbformat_minor": 2
}
