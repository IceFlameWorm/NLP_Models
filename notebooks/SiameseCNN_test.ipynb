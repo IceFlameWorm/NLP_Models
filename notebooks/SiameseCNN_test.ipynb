{
 "cells": [
  {
   "cell_type": "code",
   "execution_count": 1,
   "metadata": {},
   "outputs": [],
   "source": [
    "import sys\n",
    "sys.path.append('../')"
   ]
  },
  {
   "cell_type": "code",
   "execution_count": 2,
   "metadata": {},
   "outputs": [],
   "source": [
    "import os\n",
    "import pickle\n",
    "import json\n",
    "import torch\n",
    "from copy import deepcopy\n",
    "from pytorch_nlp_models.text_pair.siamese_cnn import SiameseCNN\n",
    "from utils.preprocess import text2ids\n",
    "# from utils.datasets import LCQMCDataset\n",
    "# from utils.model_utils import model_train, model_eval\n",
    "\n",
    "# from torch.utils.data import DataLoader\n",
    "# from dumb_containers import evaluate_performance"
   ]
  },
  {
   "cell_type": "code",
   "execution_count": 3,
   "metadata": {},
   "outputs": [],
   "source": [
    "DATA_PATH = '../data/'\n",
    "# LCQMC_PATH = os.path.join(DATA_PATH, 'LCQMC')\n",
    "WORD_VECTORS_PATH = os.path.join(DATA_PATH, 'word_vectors')\n",
    "BAIDUBAIKE_PKL = os.path.join(WORD_VECTORS_PATH, 'baidubaike.pkl')\n",
    "\n",
    "MAX_SEQ_LEN = 40\n",
    "\n",
    "MODEL_PATH = os.path.join(DATA_PATH, 'model_files/siamese_cnn')\n",
    "if not os.path.exists(MODEL_PATH):\n",
    "    os.makedirs(MODEL_PATH)\n",
    "    \n",
    "MODEL_FILE = os.path.join(MODEL_PATH, 'model.pkl')\n",
    "MODEL_CONFIG_JSON = os.path.join(MODEL_PATH, 'config.json')\n",
    "\n",
    "with open(MODEL_CONFIG_JSON, 'r') as f:\n",
    "    MODEL_CONFIG = json.load(f)"
   ]
  },
  {
   "cell_type": "code",
   "execution_count": 4,
   "metadata": {},
   "outputs": [],
   "source": [
    "with open(BAIDUBAIKE_PKL, 'rb') as f:\n",
    "    wvs = pickle.load(f)\n",
    "    \n",
    "wi = wvs['wi']\n",
    "iw = wvs['iw']\n",
    "dim = wvs['dim']\n",
    "emb = wvs['emb']\n",
    "\n",
    "\n",
    "MODEL_CONFIG = {'vocab_size': len(iw),\n",
    "                'emb_dim': dim,\n",
    "                'hidden_dim': dim,\n",
    "                'dropout': 0.2,\n",
    "               }"
   ]
  },
  {
   "cell_type": "code",
   "execution_count": 5,
   "metadata": {},
   "outputs": [
    {
     "data": {
      "text/plain": [
       "IncompatibleKeys(missing_keys=[], unexpected_keys=[])"
      ]
     },
     "execution_count": 5,
     "metadata": {},
     "output_type": "execute_result"
    }
   ],
   "source": [
    "model = SiameseCNN(**MODEL_CONFIG)\n",
    "checkpoint = torch.load(MODEL_FILE)\n",
    "model.load_state_dict(checkpoint['model_state_dict'])"
   ]
  },
  {
   "cell_type": "code",
   "execution_count": 6,
   "metadata": {},
   "outputs": [
    {
     "data": {
      "text/plain": [
       "OrderedDict([('weight',\n",
       "              tensor([[-0.0591,  0.0365, -0.0309,  ...,  0.1121, -0.0794, -0.0350],\n",
       "                      [-0.0547,  0.0733, -0.0126,  ...,  0.0449,  0.0316, -0.0057],\n",
       "                      [-0.1045, -0.4096,  0.0025,  ...,  0.2424,  0.5210,  0.0380],\n",
       "                      ...,\n",
       "                      [ 0.1317, -0.0819,  0.0877,  ..., -0.0862, -0.0418, -0.1139],\n",
       "                      [ 0.0918,  0.1966, -0.0043,  ..., -0.1252,  0.0385,  0.0049],\n",
       "                      [ 0.0351,  0.1157, -0.0244,  ..., -0.0970,  0.0307, -0.0839]]))])"
      ]
     },
     "execution_count": 6,
     "metadata": {},
     "output_type": "execute_result"
    }
   ],
   "source": [
    "model.emb.state_dict()"
   ]
  },
  {
   "cell_type": "code",
   "execution_count": 7,
   "metadata": {},
   "outputs": [],
   "source": [
    "def sim(text1, text2):\n",
    "    ids1 = text2ids(text1, wi, charmode=True)\n",
    "    ids2 = text2ids(text2, wi, charmode=True)\n",
    "    len1 = len(ids1)\n",
    "    len2 = len(ids2)\n",
    "    \n",
    "    if len(ids1) > MAX_SEQ_LEN:\n",
    "        ids1 = ids1[:MAX_SEQ_LEN]\n",
    "        len1 = MAX_SEQ_LEN\n",
    "    else:\n",
    "        len1 = len(ids1)\n",
    "        ids1 += [0] * (MAX_SEQ_LEN - len1)\n",
    "\n",
    "    if len(ids2) > MAX_SEQ_LEN:\n",
    "        ids2 = ids2[:MAX_SEQ_LEN]\n",
    "        len2 = MAX_SEQ_LEN\n",
    "    else:\n",
    "        len2 = len(ids2)\n",
    "        ids2 += [0] * (MAX_SEQ_LEN - len2)\n",
    "\n",
    "    ids1_tensor = torch.tensor([ids1], dtype = torch.long)\n",
    "    ids2_tensor = torch.tensor([ids2], dtype = torch.long)\n",
    "    len1_tensor = torch.tensor([len1], dtype = torch.long)\n",
    "    len2_tensor = torch.tensor([len2], dtype = torch.long)\n",
    "    model.eval()\n",
    "    with torch.no_grad():\n",
    "        logits, vec1, vec2 = model(ids1_tensor, ids2_tensor, len1_tensor, len2_tensor)\n",
    "        probs = torch.softmax(logits, dim = 1)\n",
    "    print(probs)\n",
    "    return probs[0, 1].item(), vec1, vec2"
   ]
  },
  {
   "cell_type": "markdown",
   "metadata": {},
   "source": [
    "# 一般测试"
   ]
  },
  {
   "cell_type": "code",
   "execution_count": 8,
   "metadata": {},
   "outputs": [
    {
     "name": "stdout",
     "output_type": "stream",
     "text": [
      "tensor([[8.3553e-05, 9.9992e-01]])\n"
     ]
    },
    {
     "data": {
      "text/plain": [
       "0.9999164342880249"
      ]
     },
     "execution_count": 8,
     "metadata": {},
     "output_type": "execute_result"
    }
   ],
   "source": [
    "text1 = \"英雄联盟什么英雄最好\"\n",
    "text2 = \"英雄联盟最好英雄是什么\"\n",
    "pos_prob, vec1, vec2 = sim(text1, text2)\n",
    "pos_prob"
   ]
  },
  {
   "cell_type": "code",
   "execution_count": 9,
   "metadata": {},
   "outputs": [
    {
     "name": "stdout",
     "output_type": "stream",
     "text": [
      "tensor([[4.7788e-04, 9.9952e-01]])\n"
     ]
    },
    {
     "data": {
      "text/plain": [
       "0.9995220899581909"
      ]
     },
     "execution_count": 9,
     "metadata": {},
     "output_type": "execute_result"
    }
   ],
   "source": [
    "text1 = \"苏宁电器这只股票怎么样\"\n",
    "text2 = \"苏宁电器的股票怎么样\"\n",
    "pos_prob, vec1, vec2 = sim(text1, text2)\n",
    "pos_prob"
   ]
  },
  {
   "cell_type": "code",
   "execution_count": 10,
   "metadata": {},
   "outputs": [
    {
     "name": "stdout",
     "output_type": "stream",
     "text": [
      "tensor([[0.7645, 0.2355]])\n"
     ]
    },
    {
     "data": {
      "text/plain": [
       "0.23548971116542816"
      ]
     },
     "execution_count": 10,
     "metadata": {},
     "output_type": "execute_result"
    }
   ],
   "source": [
    "text1 = \"我很高兴\"\n",
    "text2 = \"我很开心\"\n",
    "pos_prob, vec1, vec2 = sim(text1, text2)\n",
    "pos_prob"
   ]
  },
  {
   "cell_type": "code",
   "execution_count": 11,
   "metadata": {},
   "outputs": [
    {
     "name": "stdout",
     "output_type": "stream",
     "text": [
      "tensor([[0.0096, 0.9904]])\n"
     ]
    },
    {
     "data": {
      "text/plain": [
       "0.9903648495674133"
      ]
     },
     "execution_count": 11,
     "metadata": {},
     "output_type": "execute_result"
    }
   ],
   "source": [
    "text1 = \"我很喜欢吃冰淇淋\"\n",
    "text2 = \"我很爱吃冰淇淋\"\n",
    "pos_prob, vec1, vec2 = sim(text1, text2)\n",
    "pos_prob"
   ]
  },
  {
   "cell_type": "code",
   "execution_count": 12,
   "metadata": {},
   "outputs": [
    {
     "name": "stdout",
     "output_type": "stream",
     "text": [
      "tensor([[0.7645, 0.2355]])\n"
     ]
    },
    {
     "data": {
      "text/plain": [
       "0.23548971116542816"
      ]
     },
     "execution_count": 12,
     "metadata": {},
     "output_type": "execute_result"
    }
   ],
   "source": [
    "text1 = \"我很开心\"\n",
    "text2 = \"我很高兴\"\n",
    "pos_prob, vec1, vec2 = sim(text1, text2)\n",
    "pos_prob"
   ]
  },
  {
   "cell_type": "code",
   "execution_count": 13,
   "metadata": {},
   "outputs": [
    {
     "name": "stdout",
     "output_type": "stream",
     "text": [
      "tensor([[0.5352, 0.4648]])\n"
     ]
    },
    {
     "data": {
      "text/plain": [
       "0.4647536873817444"
      ]
     },
     "execution_count": 13,
     "metadata": {},
     "output_type": "execute_result"
    }
   ],
   "source": [
    "text1 = \"我很高兴\"\n",
    "text2 = \"我特别特别开心\"\n",
    "pos_prob, vec1, vec2 = sim(text1, text2)\n",
    "pos_prob"
   ]
  },
  {
   "cell_type": "code",
   "execution_count": 14,
   "metadata": {},
   "outputs": [
    {
     "name": "stdout",
     "output_type": "stream",
     "text": [
      "tensor([[0.7732, 0.2268]])\n"
     ]
    },
    {
     "data": {
      "text/plain": [
       "0.22675396502017975"
      ]
     },
     "execution_count": 14,
     "metadata": {},
     "output_type": "execute_result"
    }
   ],
   "source": [
    "text1 = \"我很高兴\"\n",
    "text2 = \"我其实觉得自己很开心\"\n",
    "pos_prob, vec1, vec2 = sim(text1, text2)\n",
    "pos_prob"
   ]
  },
  {
   "cell_type": "code",
   "execution_count": 15,
   "metadata": {},
   "outputs": [
    {
     "name": "stdout",
     "output_type": "stream",
     "text": [
      "tensor([[0.0276, 0.9724]])\n"
     ]
    },
    {
     "data": {
      "text/plain": [
       "0.9723561406135559"
      ]
     },
     "execution_count": 15,
     "metadata": {},
     "output_type": "execute_result"
    }
   ],
   "source": [
    "text1 = \"我特别特别开心\"\n",
    "text2 = \"我其实觉得自己很开心\"\n",
    "pos_prob, vec1, vec2 = sim(text1, text2)\n",
    "pos_prob"
   ]
  },
  {
   "cell_type": "code",
   "execution_count": 16,
   "metadata": {},
   "outputs": [
    {
     "name": "stdout",
     "output_type": "stream",
     "text": [
      "tensor([[0.9851, 0.0149]])\n"
     ]
    },
    {
     "data": {
      "text/plain": [
       "0.014875711873173714"
      ]
     },
     "execution_count": 16,
     "metadata": {},
     "output_type": "execute_result"
    }
   ],
   "source": [
    "text1 = \"我很高兴\"\n",
    "text2 = \"我不开心\"\n",
    "pos_prob, vec1, vec2 = sim(text1, text2)\n",
    "pos_prob"
   ]
  },
  {
   "cell_type": "code",
   "execution_count": 17,
   "metadata": {},
   "outputs": [
    {
     "name": "stdout",
     "output_type": "stream",
     "text": [
      "tensor([[0.0137, 0.9863]])\n"
     ]
    },
    {
     "data": {
      "text/plain": [
       "0.9862529635429382"
      ]
     },
     "execution_count": 17,
     "metadata": {},
     "output_type": "execute_result"
    }
   ],
   "source": [
    "text1 = \"我很高兴\"\n",
    "text2 = \"我不高兴\"\n",
    "pos_prob, vec1, vec2 = sim(text1, text2)\n",
    "pos_prob"
   ]
  },
  {
   "cell_type": "code",
   "execution_count": 18,
   "metadata": {},
   "outputs": [
    {
     "name": "stdout",
     "output_type": "stream",
     "text": [
      "tensor([[1.0840e-04, 9.9989e-01]])\n"
     ]
    },
    {
     "data": {
      "text/plain": [
       "0.9998916387557983"
      ]
     },
     "execution_count": 18,
     "metadata": {},
     "output_type": "execute_result"
    }
   ],
   "source": [
    "text1 = \"我很高兴\"\n",
    "text2 = \"我很高兴\"\n",
    "pos_prob, vec1, vec2 = sim(text1, text2)\n",
    "pos_prob"
   ]
  },
  {
   "cell_type": "code",
   "execution_count": 19,
   "metadata": {},
   "outputs": [
    {
     "name": "stdout",
     "output_type": "stream",
     "text": [
      "tensor([[0.4059, 0.5941]])\n"
     ]
    },
    {
     "data": {
      "text/plain": [
       "0.5941320657730103"
      ]
     },
     "execution_count": 19,
     "metadata": {},
     "output_type": "execute_result"
    }
   ],
   "source": [
    "text1 = \"我很伤心\"\n",
    "text2 = \"我很难过\"\n",
    "pos_prob, vec1, vec2 = sim(text1, text2)\n",
    "pos_prob"
   ]
  },
  {
   "cell_type": "code",
   "execution_count": 20,
   "metadata": {},
   "outputs": [
    {
     "name": "stdout",
     "output_type": "stream",
     "text": [
      "tensor([[0.8520, 0.1480]])\n"
     ]
    },
    {
     "data": {
      "text/plain": [
       "0.14801786839962006"
      ]
     },
     "execution_count": 20,
     "metadata": {},
     "output_type": "execute_result"
    }
   ],
   "source": [
    "text1 = \"真好\"\n",
    "text2 = \"不错\"\n",
    "pos_prob, vec1, vec2 = sim(text1, text2)\n",
    "pos_prob"
   ]
  },
  {
   "cell_type": "code",
   "execution_count": 21,
   "metadata": {},
   "outputs": [
    {
     "name": "stdout",
     "output_type": "stream",
     "text": [
      "tensor([[0.9086, 0.0914]])\n"
     ]
    },
    {
     "data": {
      "text/plain": [
       "0.0913928672671318"
      ]
     },
     "execution_count": 21,
     "metadata": {},
     "output_type": "execute_result"
    }
   ],
   "source": [
    "text1 = \"高兴\"\n",
    "text2 = \"开心\"\n",
    "pos_prob, vec1, vec2 = sim(text1, text2)\n",
    "pos_prob"
   ]
  },
  {
   "cell_type": "code",
   "execution_count": 22,
   "metadata": {},
   "outputs": [
    {
     "name": "stdout",
     "output_type": "stream",
     "text": [
      "tensor([[2.8391e-06, 1.0000e+00]])\n"
     ]
    },
    {
     "data": {
      "text/plain": [
       "0.9999971389770508"
      ]
     },
     "execution_count": 22,
     "metadata": {},
     "output_type": "execute_result"
    }
   ],
   "source": [
    "text1 = \"大家好才是真的好\"\n",
    "text2 = \"大家好才是真的好\"\n",
    "pos_prob, vec1, vec2 = sim(text1, text2)\n",
    "pos_prob"
   ]
  },
  {
   "cell_type": "code",
   "execution_count": 23,
   "metadata": {},
   "outputs": [
    {
     "name": "stdout",
     "output_type": "stream",
     "text": [
      "tensor([[9.9987e-01, 1.2513e-04]])\n"
     ]
    },
    {
     "data": {
      "text/plain": [
       "0.00012513212277553976"
      ]
     },
     "execution_count": 23,
     "metadata": {},
     "output_type": "execute_result"
    }
   ],
   "source": [
    "text1 = \"为什么能开出腾讯信用却没有微粒贷朋友的没用腾讯信用却有30000的额度呢\"\n",
    "text2 = \"我钱包里没有你们这个应用\"\n",
    "pos_prob, vec1, vec2 = sim(text1, text2)\n",
    "pos_prob"
   ]
  },
  {
   "cell_type": "code",
   "execution_count": 24,
   "metadata": {},
   "outputs": [
    {
     "name": "stdout",
     "output_type": "stream",
     "text": [
      "tensor([[0.9642, 0.0358]])\n"
     ]
    },
    {
     "data": {
      "text/plain": [
       "0.035836685448884964"
      ]
     },
     "execution_count": 24,
     "metadata": {},
     "output_type": "execute_result"
    }
   ],
   "source": [
    "text1 = \"我也不知道\"\n",
    "text2 = \"好吧\"\n",
    "pos_prob, vec1, vec2 = sim(text1, text2)\n",
    "pos_prob"
   ]
  },
  {
   "cell_type": "code",
   "execution_count": 25,
   "metadata": {},
   "outputs": [
    {
     "name": "stdout",
     "output_type": "stream",
     "text": [
      "tensor([[0.2789, 0.7211]])\n"
     ]
    },
    {
     "data": {
      "text/plain": [
       "0.7211363315582275"
      ]
     },
     "execution_count": 25,
     "metadata": {},
     "output_type": "execute_result"
    }
   ],
   "source": [
    "text1 = \"深度学习\"\n",
    "text2 = \"机器学习\"\n",
    "pos_prob, vec1, vec2 = sim(text1, text2)\n",
    "pos_prob"
   ]
  },
  {
   "cell_type": "code",
   "execution_count": 26,
   "metadata": {},
   "outputs": [
    {
     "name": "stdout",
     "output_type": "stream",
     "text": [
      "tensor([[0.2789, 0.7211]])\n"
     ]
    },
    {
     "data": {
      "text/plain": [
       "0.7211363315582275"
      ]
     },
     "execution_count": 26,
     "metadata": {},
     "output_type": "execute_result"
    }
   ],
   "source": [
    "text1 = \"机器学习\"\n",
    "text2 = \"深度学习\"\n",
    "pos_prob, vec1, vec2 = sim(text1, text2)\n",
    "pos_prob"
   ]
  },
  {
   "cell_type": "code",
   "execution_count": 27,
   "metadata": {
    "scrolled": true
   },
   "outputs": [
    {
     "name": "stdout",
     "output_type": "stream",
     "text": [
      "tensor([[1.8772e-04, 9.9981e-01]])\n"
     ]
    },
    {
     "data": {
      "text/plain": [
       "0.9998123049736023"
      ]
     },
     "execution_count": 27,
     "metadata": {},
     "output_type": "execute_result"
    }
   ],
   "source": [
    "text1 = \"人民团体是什么\"\n",
    "text2 = \"人民团体是指\"\n",
    "pos_prob, vec1, vec2 = sim(text1, text2)\n",
    "pos_prob"
   ]
  },
  {
   "cell_type": "markdown",
   "metadata": {},
   "source": [
    "# 百度-车牌，不太一致"
   ]
  },
  {
   "cell_type": "code",
   "execution_count": 28,
   "metadata": {},
   "outputs": [
    {
     "name": "stdout",
     "output_type": "stream",
     "text": [
      "tensor([[0.8987, 0.1013]])\n"
     ]
    },
    {
     "data": {
      "text/plain": [
       "0.1012992262840271"
      ]
     },
     "execution_count": 28,
     "metadata": {},
     "output_type": "execute_result"
    }
   ],
   "source": [
    "text1 = \"车头如何放置车牌\"\n",
    "text2 = \"前牌照怎么装\"\n",
    "pos_prob, vec1, vec2 = sim(text1, text2)\n",
    "pos_prob"
   ]
  },
  {
   "cell_type": "code",
   "execution_count": 29,
   "metadata": {},
   "outputs": [
    {
     "name": "stdout",
     "output_type": "stream",
     "text": [
      "tensor([[0.9081, 0.0919]])\n"
     ]
    },
    {
     "data": {
      "text/plain": [
       "0.0918712392449379"
      ]
     },
     "execution_count": 29,
     "metadata": {},
     "output_type": "execute_result"
    }
   ],
   "source": [
    "text1 = \"车头如何放置车牌\"\n",
    "text2 = \"如何办理北京车牌\"\n",
    "pos_prob, vec1, vec2 = sim(text1, text2)\n",
    "pos_prob"
   ]
  },
  {
   "cell_type": "code",
   "execution_count": 30,
   "metadata": {},
   "outputs": [
    {
     "name": "stdout",
     "output_type": "stream",
     "text": [
      "tensor([[0.9236, 0.0764]])\n"
     ]
    },
    {
     "data": {
      "text/plain": [
       "0.07642624527215958"
      ]
     },
     "execution_count": 30,
     "metadata": {},
     "output_type": "execute_result"
    }
   ],
   "source": [
    "text1 = \"车头如何放置车牌\"\n",
    "text2 = \"后牌照怎么装\"\n",
    "pos_prob, vec1, vec2 = sim(text1, text2)\n",
    "pos_prob"
   ]
  },
  {
   "cell_type": "markdown",
   "metadata": {},
   "source": [
    "# 百度-信号"
   ]
  },
  {
   "cell_type": "code",
   "execution_count": 31,
   "metadata": {},
   "outputs": [
    {
     "name": "stdout",
     "output_type": "stream",
     "text": [
      "tensor([[0.0037, 0.9963]])\n"
     ]
    },
    {
     "data": {
      "text/plain": [
       "0.9963286519050598"
      ]
     },
     "execution_count": 31,
     "metadata": {},
     "output_type": "execute_result"
    }
   ],
   "source": [
    "text1 = \"信号忽强忽弱\"\n",
    "text2 = \"信号忽高忽低\"\n",
    "pos_prob, vec1, vec2 = sim(text1, text2)\n",
    "pos_prob"
   ]
  },
  {
   "cell_type": "code",
   "execution_count": 32,
   "metadata": {},
   "outputs": [
    {
     "name": "stdout",
     "output_type": "stream",
     "text": [
      "tensor([[0.0296, 0.9704]])\n"
     ]
    },
    {
     "data": {
      "text/plain": [
       "0.9703766107559204"
      ]
     },
     "execution_count": 32,
     "metadata": {},
     "output_type": "execute_result"
    }
   ],
   "source": [
    "text1 = \"信号忽强忽弱\"\n",
    "text2 = \"信号忽左忽右\"\n",
    "pos_prob, vec1, vec2 = sim(text1, text2)\n",
    "pos_prob"
   ]
  },
  {
   "cell_type": "code",
   "execution_count": 33,
   "metadata": {},
   "outputs": [
    {
     "name": "stdout",
     "output_type": "stream",
     "text": [
      "tensor([[0.0377, 0.9623]])\n"
     ]
    },
    {
     "data": {
      "text/plain": [
       "0.9622653722763062"
      ]
     },
     "execution_count": 33,
     "metadata": {},
     "output_type": "execute_result"
    }
   ],
   "source": [
    "text1 = \"信号忽强忽弱\"\n",
    "text2 = \"信号忽然中断\"\n",
    "pos_prob, vec1, vec2 = sim(text1, text2)\n",
    "pos_prob"
   ]
  },
  {
   "cell_type": "markdown",
   "metadata": {},
   "source": [
    "# 百度-机器学习"
   ]
  },
  {
   "cell_type": "code",
   "execution_count": 34,
   "metadata": {},
   "outputs": [
    {
     "name": "stdout",
     "output_type": "stream",
     "text": [
      "tensor([[0.9925, 0.0075]])\n"
     ]
    },
    {
     "data": {
      "text/plain": [
       "0.007539540529251099"
      ]
     },
     "execution_count": 34,
     "metadata": {},
     "output_type": "execute_result"
    }
   ],
   "source": [
    "text1 = \"如何学好深度学习\"\n",
    "text2 = \"深入学习习近平讲话材料\"\n",
    "pos_prob, vec1, vec2 = sim(text1, text2)\n",
    "pos_prob"
   ]
  },
  {
   "cell_type": "code",
   "execution_count": 35,
   "metadata": {},
   "outputs": [
    {
     "name": "stdout",
     "output_type": "stream",
     "text": [
      "tensor([[0.5992, 0.4008]])\n"
     ]
    },
    {
     "data": {
      "text/plain": [
       "0.4007570147514343"
      ]
     },
     "execution_count": 35,
     "metadata": {},
     "output_type": "execute_result"
    }
   ],
   "source": [
    "text1 = \"如何学好深度学习\"\n",
    "text2 = \"机器学习教程\"\n",
    "pos_prob, vec1, vec2 = sim(text1, text2)\n",
    "pos_prob"
   ]
  },
  {
   "cell_type": "code",
   "execution_count": 36,
   "metadata": {},
   "outputs": [
    {
     "name": "stdout",
     "output_type": "stream",
     "text": [
      "tensor([[0.9865, 0.0135]])\n"
     ]
    },
    {
     "data": {
      "text/plain": [
       "0.013544592075049877"
      ]
     },
     "execution_count": 36,
     "metadata": {},
     "output_type": "execute_result"
    }
   ],
   "source": [
    "text1 = \"如何学好深度学习\"\n",
    "text2 = \"人工智能教程\"\n",
    "pos_prob, vec1, vec2 = sim(text1, text2)\n",
    "pos_prob"
   ]
  },
  {
   "cell_type": "markdown",
   "metadata": {},
   "source": [
    "# 百度-香蕉的翻译，偏小但排序一致"
   ]
  },
  {
   "cell_type": "code",
   "execution_count": 37,
   "metadata": {},
   "outputs": [
    {
     "name": "stdout",
     "output_type": "stream",
     "text": [
      "tensor([[0.7377, 0.2623]])\n"
     ]
    },
    {
     "data": {
      "text/plain": [
       "0.26231491565704346"
      ]
     },
     "execution_count": 37,
     "metadata": {},
     "output_type": "execute_result"
    }
   ],
   "source": [
    "text1 = \"香蕉的翻译\"\n",
    "text2 = \"香蕉用英文怎么说\"\n",
    "pos_prob, vec1, vec2 = sim(text1, text2)\n",
    "pos_prob"
   ]
  },
  {
   "cell_type": "code",
   "execution_count": 38,
   "metadata": {},
   "outputs": [
    {
     "name": "stdout",
     "output_type": "stream",
     "text": [
      "tensor([[0.5814, 0.4186]])\n"
     ]
    },
    {
     "data": {
      "text/plain": [
       "0.4185939431190491"
      ]
     },
     "execution_count": 38,
     "metadata": {},
     "output_type": "execute_result"
    }
   ],
   "source": [
    "text1 = \"香蕉的翻译\"\n",
    "text2 = \"香蕉怎么吃\"\n",
    "pos_prob, vec1, vec2 = sim(text1, text2)\n",
    "pos_prob"
   ]
  },
  {
   "cell_type": "code",
   "execution_count": 39,
   "metadata": {
    "scrolled": true
   },
   "outputs": [
    {
     "name": "stdout",
     "output_type": "stream",
     "text": [
      "tensor([[0.9905, 0.0095]])\n"
     ]
    },
    {
     "data": {
      "text/plain": [
       "0.009474558755755424"
      ]
     },
     "execution_count": 39,
     "metadata": {},
     "output_type": "execute_result"
    }
   ],
   "source": [
    "text1 = \"香蕉的翻译\"\n",
    "text2 = \"桔子用英文怎么说\"\n",
    "pos_prob, vec1, vec2 = sim(text1, text2)\n",
    "pos_prob"
   ]
  },
  {
   "cell_type": "markdown",
   "metadata": {},
   "source": [
    "# 百度-腹泻，排序有差别"
   ]
  },
  {
   "cell_type": "code",
   "execution_count": 40,
   "metadata": {},
   "outputs": [
    {
     "name": "stdout",
     "output_type": "stream",
     "text": [
      "tensor([[0.5363, 0.4637]])\n"
     ]
    },
    {
     "data": {
      "text/plain": [
       "0.4636746644973755"
      ]
     },
     "execution_count": 40,
     "metadata": {},
     "output_type": "execute_result"
    }
   ],
   "source": [
    "text1 = \"小儿腹泻偏方\"\n",
    "text2 = \"宝宝拉肚子偏方\"\n",
    "pos_prob, vec1, vec2 = sim(text1, text2)\n",
    "pos_prob"
   ]
  },
  {
   "cell_type": "code",
   "execution_count": 41,
   "metadata": {},
   "outputs": [
    {
     "name": "stdout",
     "output_type": "stream",
     "text": [
      "tensor([[0.0473, 0.9527]])\n"
     ]
    },
    {
     "data": {
      "text/plain": [
       "0.9527326226234436"
      ]
     },
     "execution_count": 41,
     "metadata": {},
     "output_type": "execute_result"
    }
   ],
   "source": [
    "text1 = \"小儿腹泻偏方\"\n",
    "text2 = \"小儿感冒偏方\"\n",
    "pos_prob, vec1, vec2 = sim(text1, text2)\n",
    "pos_prob"
   ]
  },
  {
   "cell_type": "code",
   "execution_count": 42,
   "metadata": {},
   "outputs": [
    {
     "name": "stdout",
     "output_type": "stream",
     "text": [
      "tensor([[0.0014, 0.9986]])\n"
     ]
    },
    {
     "data": {
      "text/plain": [
       "0.9986273050308228"
      ]
     },
     "execution_count": 42,
     "metadata": {},
     "output_type": "execute_result"
    }
   ],
   "source": [
    "text1 = \"小儿腹泻偏方\"\n",
    "text2 = \"腹泻偏方\"\n",
    "pos_prob, vec1, vec2 = sim(text1, text2)\n",
    "pos_prob"
   ]
  },
  {
   "cell_type": "markdown",
   "metadata": {},
   "source": [
    "# 百度-LOL，数值偏小，但排序一致"
   ]
  },
  {
   "cell_type": "code",
   "execution_count": 43,
   "metadata": {},
   "outputs": [
    {
     "name": "stdout",
     "output_type": "stream",
     "text": [
      "tensor([[0.4916, 0.5084]])\n"
     ]
    },
    {
     "data": {
      "text/plain": [
       "0.5083925724029541"
      ]
     },
     "execution_count": 43,
     "metadata": {},
     "output_type": "execute_result"
    }
   ],
   "source": [
    "text1 = \"英雄联盟好玩吗，怎么升级\"\n",
    "text2 = \"英雄联盟攻略\"\n",
    "pos_prob, vec1, vec2 = sim(text1, text2)\n",
    "pos_prob"
   ]
  },
  {
   "cell_type": "code",
   "execution_count": 44,
   "metadata": {},
   "outputs": [
    {
     "name": "stdout",
     "output_type": "stream",
     "text": [
      "tensor([[0.0435, 0.9565]])\n"
     ]
    },
    {
     "data": {
      "text/plain": [
       "0.9565330147743225"
      ]
     },
     "execution_count": 44,
     "metadata": {},
     "output_type": "execute_result"
    }
   ],
   "source": [
    "text1 = \"英雄联盟好玩吗，怎么升级\"\n",
    "text2 = \"英雄联盟服务器升级\"\n",
    "pos_prob, vec1, vec2 = sim(text1, text2)\n",
    "pos_prob"
   ]
  },
  {
   "cell_type": "code",
   "execution_count": 45,
   "metadata": {
    "scrolled": true
   },
   "outputs": [
    {
     "name": "stdout",
     "output_type": "stream",
     "text": [
      "tensor([[0.2259, 0.7741]])\n"
     ]
    },
    {
     "data": {
      "text/plain": [
       "0.7741127014160156"
      ]
     },
     "execution_count": 45,
     "metadata": {},
     "output_type": "execute_result"
    }
   ],
   "source": [
    "text1 = \"英雄联盟好玩吗，怎么升级\"\n",
    "text2 = \"怎么打好英雄联盟\"\n",
    "pos_prob, vec1, vec2 = sim(text1, text2)\n",
    "pos_prob"
   ]
  },
  {
   "cell_type": "markdown",
   "metadata": {},
   "source": [
    "# 百度-红米"
   ]
  },
  {
   "cell_type": "code",
   "execution_count": 46,
   "metadata": {},
   "outputs": [
    {
     "name": "stdout",
     "output_type": "stream",
     "text": [
      "tensor([[0.1326, 0.8674]])\n"
     ]
    },
    {
     "data": {
      "text/plain": [
       "0.867403507232666"
      ]
     },
     "execution_count": 46,
     "metadata": {},
     "output_type": "execute_result"
    }
   ],
   "source": [
    "text1 = \"红米更新出错\"\n",
    "text2 = \"红米升级系统出错\"\n",
    "pos_prob, vec1, vec2 = sim(text1, text2)\n",
    "pos_prob"
   ]
  },
  {
   "cell_type": "code",
   "execution_count": 47,
   "metadata": {},
   "outputs": [
    {
     "name": "stdout",
     "output_type": "stream",
     "text": [
      "tensor([[0.0661, 0.9339]])\n"
     ]
    },
    {
     "data": {
      "text/plain": [
       "0.9339197278022766"
      ]
     },
     "execution_count": 47,
     "metadata": {},
     "output_type": "execute_result"
    }
   ],
   "source": [
    "text1 = \"红米更新出错\"\n",
    "text2 = \"红米账户出错\"\n",
    "pos_prob, vec1, vec2 = sim(text1, text2)\n",
    "pos_prob"
   ]
  },
  {
   "cell_type": "code",
   "execution_count": 48,
   "metadata": {},
   "outputs": [
    {
     "name": "stdout",
     "output_type": "stream",
     "text": [
      "tensor([[0.9983, 0.0017]])\n"
     ]
    },
    {
     "data": {
      "text/plain": [
       "0.0016654371283948421"
      ]
     },
     "execution_count": 48,
     "metadata": {},
     "output_type": "execute_result"
    }
   ],
   "source": [
    "text1 = \"红米更新出错\"\n",
    "text2 = \"如何买到小米手机\"\n",
    "pos_prob, vec1, vec2 = sim(text1, text2)\n",
    "pos_prob"
   ]
  },
  {
   "cell_type": "markdown",
   "metadata": {},
   "source": [
    "# 百度-李彦宏"
   ]
  },
  {
   "cell_type": "code",
   "execution_count": 49,
   "metadata": {},
   "outputs": [
    {
     "name": "stdout",
     "output_type": "stream",
     "text": [
      "tensor([[0.0543, 0.9457]])\n"
     ]
    },
    {
     "data": {
      "text/plain": [
       "0.9457142949104309"
      ]
     },
     "execution_count": 49,
     "metadata": {},
     "output_type": "execute_result"
    }
   ],
   "source": [
    "text1 = \"李彦宏是百度公司创始人\"\n",
    "text2 = \"百度是李彦宏创办的\"\n",
    "pos_prob, vec1, vec2 = sim(text1, text2)\n",
    "pos_prob"
   ]
  },
  {
   "cell_type": "code",
   "execution_count": 50,
   "metadata": {},
   "outputs": [
    {
     "name": "stdout",
     "output_type": "stream",
     "text": [
      "tensor([[0.8830, 0.1170]])\n"
     ]
    },
    {
     "data": {
      "text/plain": [
       "0.11702600866556168"
      ]
     },
     "execution_count": 50,
     "metadata": {},
     "output_type": "execute_result"
    }
   ],
   "source": [
    "text1 = \"李彦宏是百度公司创始人\"\n",
    "text2 = \"马化腾创办了腾讯公司\"\n",
    "pos_prob, vec1, vec2 = sim(text1, text2)\n",
    "pos_prob"
   ]
  },
  {
   "cell_type": "code",
   "execution_count": 51,
   "metadata": {},
   "outputs": [
    {
     "name": "stdout",
     "output_type": "stream",
     "text": [
      "tensor([[0.9976, 0.0024]])\n"
     ]
    },
    {
     "data": {
      "text/plain": [
       "0.0024302422534674406"
      ]
     },
     "execution_count": 51,
     "metadata": {},
     "output_type": "execute_result"
    }
   ],
   "source": [
    "text1 = \"李彦宏是百度公司创始人\"\n",
    "text2 = \"姚明是NBA的著名球星\"\n",
    "pos_prob, vec1, vec2 = sim(text1, text2)\n",
    "pos_prob"
   ]
  },
  {
   "cell_type": "markdown",
   "metadata": {},
   "source": [
    "# 百度-中国历史"
   ]
  },
  {
   "cell_type": "code",
   "execution_count": 52,
   "metadata": {},
   "outputs": [
    {
     "name": "stdout",
     "output_type": "stream",
     "text": [
      "tensor([[0.9110, 0.0890]])\n"
     ]
    },
    {
     "data": {
      "text/plain": [
       "0.0889529436826706"
      ]
     },
     "execution_count": 52,
     "metadata": {},
     "output_type": "execute_result"
    }
   ],
   "source": [
    "text1 = \"中国有五千年的历史\"\n",
    "text2 = \"中国是个历史悠久的国家\"\n",
    "pos_prob, vec1, vec2 = sim(text1, text2)\n",
    "pos_prob"
   ]
  },
  {
   "cell_type": "code",
   "execution_count": 53,
   "metadata": {},
   "outputs": [
    {
     "name": "stdout",
     "output_type": "stream",
     "text": [
      "tensor([[0.5871, 0.4129]])\n"
     ]
    },
    {
     "data": {
      "text/plain": [
       "0.41286370158195496"
      ]
     },
     "execution_count": 53,
     "metadata": {},
     "output_type": "execute_result"
    }
   ],
   "source": [
    "text1 = \"中国有五千年的历史\"\n",
    "text2 = \"中国有很多少数民族\"\n",
    "pos_prob, vec1, vec2 = sim(text1, text2)\n",
    "pos_prob"
   ]
  },
  {
   "cell_type": "code",
   "execution_count": 54,
   "metadata": {},
   "outputs": [
    {
     "name": "stdout",
     "output_type": "stream",
     "text": [
      "tensor([[0.9613, 0.0387]])\n"
     ]
    },
    {
     "data": {
      "text/plain": [
       "0.03867652267217636"
      ]
     },
     "execution_count": 54,
     "metadata": {},
     "output_type": "execute_result"
    }
   ],
   "source": [
    "text1 = \"中国有五千年的历史\"\n",
    "text2 = \"中国有13亿人口\"\n",
    "pos_prob, vec1, vec2 = sim(text1, text2)\n",
    "pos_prob"
   ]
  },
  {
   "cell_type": "markdown",
   "metadata": {},
   "source": [
    "# 百度-北京奥运会，偏小，但数值一致"
   ]
  },
  {
   "cell_type": "code",
   "execution_count": 55,
   "metadata": {},
   "outputs": [
    {
     "name": "stdout",
     "output_type": "stream",
     "text": [
      "tensor([[0.1808, 0.8192]])\n"
     ]
    },
    {
     "data": {
      "text/plain": [
       "0.8191573619842529"
      ]
     },
     "execution_count": 55,
     "metadata": {},
     "output_type": "execute_result"
    }
   ],
   "source": [
    "text1 = \"北京成功申办了2008年奥运会\"\n",
    "text2 = \"2008年奥运会在北京举行\"\n",
    "pos_prob, vec1, vec2 = sim(text1, text2)\n",
    "pos_prob"
   ]
  },
  {
   "cell_type": "code",
   "execution_count": 56,
   "metadata": {},
   "outputs": [
    {
     "name": "stdout",
     "output_type": "stream",
     "text": [
      "tensor([[0.8822, 0.1178]])\n"
     ]
    },
    {
     "data": {
      "text/plain": [
       "0.11780460923910141"
      ]
     },
     "execution_count": 56,
     "metadata": {},
     "output_type": "execute_result"
    }
   ],
   "source": [
    "text1 = \"北京成功申办了2008年奥运会\"\n",
    "text2 = \"伦敦奥运会在2012年举行\"\n",
    "pos_prob, vec1, vec2 = sim(text1, text2)\n",
    "pos_prob"
   ]
  },
  {
   "cell_type": "code",
   "execution_count": 57,
   "metadata": {},
   "outputs": [
    {
     "name": "stdout",
     "output_type": "stream",
     "text": [
      "tensor([[0.5057, 0.4943]])\n"
     ]
    },
    {
     "data": {
      "text/plain": [
       "0.49431949853897095"
      ]
     },
     "execution_count": 57,
     "metadata": {},
     "output_type": "execute_result"
    }
   ],
   "source": [
    "text1 = \"北京成功申办了2008年奥运会\"\n",
    "text2 = \"东京奥运会即将举办\"\n",
    "pos_prob, vec1, vec2 = sim(text1, text2)\n",
    "pos_prob"
   ]
  },
  {
   "cell_type": "code",
   "execution_count": null,
   "metadata": {},
   "outputs": [],
   "source": []
  }
 ],
 "metadata": {
  "kernelspec": {
   "display_name": "Python 3",
   "language": "python",
   "name": "python3"
  },
  "language_info": {
   "codemirror_mode": {
    "name": "ipython",
    "version": 3
   },
   "file_extension": ".py",
   "mimetype": "text/x-python",
   "name": "python",
   "nbconvert_exporter": "python",
   "pygments_lexer": "ipython3",
   "version": "3.7.3"
  }
 },
 "nbformat": 4,
 "nbformat_minor": 2
}
